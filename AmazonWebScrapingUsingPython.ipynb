{
 "cells": [
  {
   "cell_type": "code",
   "execution_count": 29,
   "id": "445dffe0-9bc3-4f0f-90f8-f0a42ed4fb2b",
   "metadata": {},
   "outputs": [],
   "source": [
    "# import libraries \n",
    "from bs4 import BeautifulSoup\n",
    "import requests\n",
    "import time\n",
    "import datetime\n",
    "import smtplib"
   ]
  },
  {
   "cell_type": "code",
   "execution_count": 30,
   "id": "589a5bcd-8514-49c7-96e5-68a22cb5cdc7",
   "metadata": {},
   "outputs": [
    {
     "name": "stdout",
     "output_type": "stream",
     "text": [
      "Melissa & Doug Burrow Bunny Rabbit Stuffed Animal (9 inches)\n",
      "18\n"
     ]
    }
   ],
   "source": [
    "from selenium import webdriver\n",
    "from selenium.webdriver.common.by import By\n",
    "from selenium.webdriver.chrome.service import Service\n",
    "from selenium.webdriver.support.ui import WebDriverWait\n",
    "from selenium.webdriver.support import expected_conditions as EC\n",
    "from webdriver_manager.chrome import ChromeDriverManager\n",
    "\n",
    "# 设置Selenium WebDriver\n",
    "service = Service(ChromeDriverManager().install())\n",
    "driver = webdriver.Chrome(service=service)\n",
    "\n",
    "# 访问亚马逊商品页面\n",
    "URL = 'https://www.amazon.com/Melissa-Doug-Stuffed-Washable-Surface/dp/B004N7NFSK/?_encoding=UTF8&pd_rd_w=TK1lk&content-id=amzn1.sym.bb26577c-0540-459a-9c72-0b9dde0900bb%3Aamzn1.symc.da37c481-c687-45c0-9f6a-b1d01f510202&pf_rd_p=bb26577c-0540-459a-9c72-0b9dde0900bb&pf_rd_r=B01T7HMQ8KCZNDKP5Y4H&pd_rd_wg=tXoDF&pd_rd_r=a676b51d-353a-4a89-891d-d7b69543f4db&ref_=pd_hp_d_atf_ci_mcx_mr_ca_hp_atf_d'\n",
    "\n",
    "driver.get(URL)\n",
    "\n",
    "try:\n",
    "    WebDriverWait(driver, 10).until(\n",
    "        EC.presence_of_element_located((By.ID, 'productTitle'))\n",
    "    )\n",
    "\n",
    "    title = driver.find_element(By.ID, 'productTitle').text\n",
    "\n",
    "    price = driver.find_element(By.CSS_SELECTOR, '.a-price-whole').text\n",
    "\n",
    "    print(title)\n",
    "    print(price)\n",
    "\n",
    "finally:\n",
    "    driver.quit()"
   ]
  },
  {
   "cell_type": "code",
   "execution_count": 31,
   "id": "2ad79495-2daa-42bb-a263-6d3b1f106568",
   "metadata": {},
   "outputs": [
    {
     "name": "stdout",
     "output_type": "stream",
     "text": [
      "2024-10-11\n"
     ]
    }
   ],
   "source": [
    "#为输出创建时间戳，以追踪数据的收集时间\n",
    "import datetime\n",
    "today = datetime.date.today()\n",
    "print(today)"
   ]
  },
  {
   "cell_type": "code",
   "execution_count": 32,
   "id": "bd3fa4d2-2054-4511-bcec-6ad04e30d054",
   "metadata": {},
   "outputs": [],
   "source": [
    "# Create CSV and write headers and data into the file\n",
    "import csv\n",
    "header = ['Title','Price','Date']\n",
    "data = [title,price,today]\n",
    "\n",
    "with open('AamazonWebScrapeDataset.csv','w',newline='',encoding='UTF8') as f:\n",
    "    writer = csv.writer(f)\n",
    "    writer.writerow(header)\n",
    "    writer.writerow(data)"
   ]
  },
  {
   "cell_type": "code",
   "execution_count": 33,
   "id": "3432eedb-44e9-4a47-bf25-acea4bf6939a",
   "metadata": {},
   "outputs": [
    {
     "name": "stdout",
     "output_type": "stream",
     "text": [
      "                                               Title  Price        Date\n",
      "0  Melissa & Doug Burrow Bunny Rabbit Stuffed Ani...     18  2024-10-11\n"
     ]
    }
   ],
   "source": [
    "import pandas as pd\n",
    "\n",
    "df = pd.read_csv(r\"C:\\Users\\lujiaming\\AamazonWebScrapeDataset.csv\")\n",
    "\n",
    "print(df)"
   ]
  },
  {
   "cell_type": "code",
   "execution_count": 34,
   "id": "f7362876-1417-401b-b628-a17c9a43f6a2",
   "metadata": {},
   "outputs": [],
   "source": [
    "#append data to the csv\n",
    "\n",
    "with open('AmazonWebScraperDataset.csv', 'a+', newline='', encoding='UTF8') as f:\n",
    "    writer = csv.writer(f)\n",
    "    writer.writerow(data)"
   ]
  },
  {
   "cell_type": "code",
   "execution_count": 35,
   "id": "9602d33b-51e5-4116-8801-e62f418928b3",
   "metadata": {},
   "outputs": [
    {
     "name": "stdout",
     "output_type": "stream",
     "text": [
      "Melissa & Doug Burrow Bunny Rabbit Stuffed Animal (9 inches)\n",
      "18\n"
     ]
    }
   ],
   "source": [
    "import time\n",
    "def check_price():\n",
    "    from selenium import webdriver\n",
    "    from selenium.webdriver.common.by import By\n",
    "    from selenium.webdriver.chrome.service import Service\n",
    "    from selenium.webdriver.support.ui import WebDriverWait\n",
    "    from selenium.webdriver.support import expected_conditions as EC\n",
    "    from webdriver_manager.chrome import ChromeDriverManager\n",
    "    import csv\n",
    "    from datetime import datetime\n",
    "\n",
    "    service = Service(ChromeDriverManager().install())\n",
    "    driver = webdriver.Chrome(service=service)\n",
    "    URL = 'https://www.amazon.com/Melissa-Doug-Stuffed-Washable-Surface/dp/B004N7NFSK/?_encoding=UTF8&pd_rd_w=TK1lk&content-id=amzn1.sym.bb26577c-0540-459a-9c72-0b9dde0900bb%3Aamzn1.symc.da37c481-c687-45c0-9f6a-b1d01f510202&pf_rd_p=bb26577c-0540-459a-9c72-0b9dde0900bb&pf_rd_r=B01T7HMQ8KCZNDKP5Y4H&pd_rd_wg=tXoDF&pd_rd_r=a676b51d-353a-4a89-891d-d7b69543f4db&ref_=pd_hp_d_atf_ci_mcx_mr_ca_hp_atf_d'\n",
    "    driver.get(URL)\n",
    "\n",
    "    try:\n",
    "        WebDriverWait(driver, 10).until(\n",
    "            EC.presence_of_element_located((By.ID, 'productTitle'))\n",
    "        )\n",
    "\n",
    "        title = driver.find_element(By.ID, 'productTitle').text\n",
    "        price = driver.find_element(By.CSS_SELECTOR, '.a-price-whole').text\n",
    "\n",
    "        print(title)\n",
    "        print(price)\n",
    "\n",
    "    finally:\n",
    "        driver.quit()\n",
    "\n",
    "    today = datetime.today().strftime('%Y-%m-%d')\n",
    "    header = ['Title', 'Price', 'Date']\n",
    "    data = [title, price, today]\n",
    "\n",
    "    with open('AmazonWebScrapeDataset.csv', 'w', newline='', encoding='UTF8') as f:\n",
    "        writer = csv.writer(f)\n",
    "        writer.writerow(header)\n",
    "        writer.writerow(data)\n",
    "\n",
    "# 调用函数\n",
    "check_price()"
   ]
  },
  {
   "cell_type": "code",
   "execution_count": null,
   "id": "96de656d-1f05-4019-8ea1-e16f7d7c16a1",
   "metadata": {},
   "outputs": [
    {
     "name": "stdout",
     "output_type": "stream",
     "text": [
      "Melissa & Doug Burrow Bunny Rabbit Stuffed Animal (9 inches)\n",
      "18\n"
     ]
    }
   ],
   "source": [
    "# Runs check_price after a set time and inputs data into your CSV\n",
    "while(True):\n",
    "    check_price()\n",
    "    time.sleep(86400)"
   ]
  },
  {
   "cell_type": "code",
   "execution_count": null,
   "id": "31916f92-a8d0-47cc-b502-ffd0abb178b3",
   "metadata": {},
   "outputs": [],
   "source": [
    "import pandas as pd\n",
    "\n",
    "df = pd.read_csv(r\"C:\\Users\\lujiaming\\AmazonWebScraperDataset.csv\")\n",
    "\n",
    "print(df)"
   ]
  },
  {
   "cell_type": "code",
   "execution_count": null,
   "id": "7bfcb3a3-0834-466b-b674-ee3fcbcffd35",
   "metadata": {},
   "outputs": [],
   "source": []
  },
  {
   "cell_type": "code",
   "execution_count": null,
   "id": "a74b7e79-af5e-4dbd-8122-18b88c8e2e6e",
   "metadata": {},
   "outputs": [],
   "source": []
  }
 ],
 "metadata": {
  "kernelspec": {
   "display_name": "Python 3 (ipykernel)",
   "language": "python",
   "name": "python3"
  },
  "language_info": {
   "codemirror_mode": {
    "name": "ipython",
    "version": 3
   },
   "file_extension": ".py",
   "mimetype": "text/x-python",
   "name": "python",
   "nbconvert_exporter": "python",
   "pygments_lexer": "ipython3",
   "version": "3.11.7"
  }
 },
 "nbformat": 4,
 "nbformat_minor": 5
}
